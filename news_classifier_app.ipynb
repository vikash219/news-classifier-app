{
  "nbformat": 4,
  "nbformat_minor": 0,
  "metadata": {
    "colab": {
      "name": "news_classifier_app.ipynb",
      "provenance": []
    },
    "kernelspec": {
      "name": "python3",
      "display_name": "Python 3"
    },
    "accelerator": "GPU"
  },
  "cells": [
    {
      "cell_type": "code",
      "metadata": {
        "colab": {
          "base_uri": "https://localhost:8080/"
        },
        "id": "4neVzcOqOfK_",
        "outputId": "5033e787-16ec-48b1-f8cc-7d4b900a288e"
      },
      "source": [
        "!pip install autocorrect\r\n",
        "import sys \r\n",
        "!{sys.executable} -m pip install contractions\r\n",
        "!pip install zeugma"
      ],
      "execution_count": 1,
      "outputs": [
        {
          "output_type": "stream",
          "text": [
            "Collecting autocorrect\n",
            "\u001b[?25l  Downloading https://files.pythonhosted.org/packages/16/a8/1fc332535fc26db807fa48bdb54070355b83a36c797451c3d563bc190fa8/autocorrect-2.3.0.tar.gz (621kB)\n",
            "\r\u001b[K     |▌                               | 10kB 24.5MB/s eta 0:00:01\r\u001b[K     |█                               | 20kB 29.4MB/s eta 0:00:01\r\u001b[K     |█▋                              | 30kB 24.3MB/s eta 0:00:01\r\u001b[K     |██                              | 40kB 21.5MB/s eta 0:00:01\r\u001b[K     |██▋                             | 51kB 22.9MB/s eta 0:00:01\r\u001b[K     |███▏                            | 61kB 16.9MB/s eta 0:00:01\r\u001b[K     |███▊                            | 71kB 17.2MB/s eta 0:00:01\r\u001b[K     |████▏                           | 81kB 17.6MB/s eta 0:00:01\r\u001b[K     |████▊                           | 92kB 15.5MB/s eta 0:00:01\r\u001b[K     |█████▎                          | 102kB 16.6MB/s eta 0:00:01\r\u001b[K     |█████▉                          | 112kB 16.6MB/s eta 0:00:01\r\u001b[K     |██████▎                         | 122kB 16.6MB/s eta 0:00:01\r\u001b[K     |██████▉                         | 133kB 16.6MB/s eta 0:00:01\r\u001b[K     |███████▍                        | 143kB 16.6MB/s eta 0:00:01\r\u001b[K     |████████                        | 153kB 16.6MB/s eta 0:00:01\r\u001b[K     |████████▍                       | 163kB 16.6MB/s eta 0:00:01\r\u001b[K     |█████████                       | 174kB 16.6MB/s eta 0:00:01\r\u001b[K     |█████████▌                      | 184kB 16.6MB/s eta 0:00:01\r\u001b[K     |██████████                      | 194kB 16.6MB/s eta 0:00:01\r\u001b[K     |██████████▌                     | 204kB 16.6MB/s eta 0:00:01\r\u001b[K     |███████████                     | 215kB 16.6MB/s eta 0:00:01\r\u001b[K     |███████████▋                    | 225kB 16.6MB/s eta 0:00:01\r\u001b[K     |████████████▏                   | 235kB 16.6MB/s eta 0:00:01\r\u001b[K     |████████████▋                   | 245kB 16.6MB/s eta 0:00:01\r\u001b[K     |█████████████▏                  | 256kB 16.6MB/s eta 0:00:01\r\u001b[K     |█████████████▊                  | 266kB 16.6MB/s eta 0:00:01\r\u001b[K     |██████████████▎                 | 276kB 16.6MB/s eta 0:00:01\r\u001b[K     |██████████████▊                 | 286kB 16.6MB/s eta 0:00:01\r\u001b[K     |███████████████▎                | 296kB 16.6MB/s eta 0:00:01\r\u001b[K     |███████████████▉                | 307kB 16.6MB/s eta 0:00:01\r\u001b[K     |████████████████▍               | 317kB 16.6MB/s eta 0:00:01\r\u001b[K     |████████████████▉               | 327kB 16.6MB/s eta 0:00:01\r\u001b[K     |█████████████████▍              | 337kB 16.6MB/s eta 0:00:01\r\u001b[K     |██████████████████              | 348kB 16.6MB/s eta 0:00:01\r\u001b[K     |██████████████████▍             | 358kB 16.6MB/s eta 0:00:01\r\u001b[K     |███████████████████             | 368kB 16.6MB/s eta 0:00:01\r\u001b[K     |███████████████████▌            | 378kB 16.6MB/s eta 0:00:01\r\u001b[K     |████████████████████            | 389kB 16.6MB/s eta 0:00:01\r\u001b[K     |████████████████████▌           | 399kB 16.6MB/s eta 0:00:01\r\u001b[K     |█████████████████████           | 409kB 16.6MB/s eta 0:00:01\r\u001b[K     |█████████████████████▋          | 419kB 16.6MB/s eta 0:00:01\r\u001b[K     |██████████████████████▏         | 430kB 16.6MB/s eta 0:00:01\r\u001b[K     |██████████████████████▋         | 440kB 16.6MB/s eta 0:00:01\r\u001b[K     |███████████████████████▏        | 450kB 16.6MB/s eta 0:00:01\r\u001b[K     |███████████████████████▊        | 460kB 16.6MB/s eta 0:00:01\r\u001b[K     |████████████████████████▎       | 471kB 16.6MB/s eta 0:00:01\r\u001b[K     |████████████████████████▊       | 481kB 16.6MB/s eta 0:00:01\r\u001b[K     |█████████████████████████▎      | 491kB 16.6MB/s eta 0:00:01\r\u001b[K     |█████████████████████████▉      | 501kB 16.6MB/s eta 0:00:01\r\u001b[K     |██████████████████████████▍     | 512kB 16.6MB/s eta 0:00:01\r\u001b[K     |██████████████████████████▉     | 522kB 16.6MB/s eta 0:00:01\r\u001b[K     |███████████████████████████▍    | 532kB 16.6MB/s eta 0:00:01\r\u001b[K     |████████████████████████████    | 542kB 16.6MB/s eta 0:00:01\r\u001b[K     |████████████████████████████▌   | 552kB 16.6MB/s eta 0:00:01\r\u001b[K     |█████████████████████████████   | 563kB 16.6MB/s eta 0:00:01\r\u001b[K     |█████████████████████████████▌  | 573kB 16.6MB/s eta 0:00:01\r\u001b[K     |██████████████████████████████  | 583kB 16.6MB/s eta 0:00:01\r\u001b[K     |██████████████████████████████▋ | 593kB 16.6MB/s eta 0:00:01\r\u001b[K     |███████████████████████████████ | 604kB 16.6MB/s eta 0:00:01\r\u001b[K     |███████████████████████████████▋| 614kB 16.6MB/s eta 0:00:01\r\u001b[K     |████████████████████████████████| 624kB 16.6MB/s \n",
            "\u001b[?25hBuilding wheels for collected packages: autocorrect\n",
            "  Building wheel for autocorrect (setup.py) ... \u001b[?25l\u001b[?25hdone\n",
            "  Created wheel for autocorrect: filename=autocorrect-2.3.0-cp36-none-any.whl size=621588 sha256=07447c3eecc5b33d5c8af2d8aad2eac3c59c3e13427af7d9e8b92f6da8ef740a\n",
            "  Stored in directory: /root/.cache/pip/wheels/cc/1c/30/6b0199afbd20eef5959f5eaa0ead86aeef84391740482b2279\n",
            "Successfully built autocorrect\n",
            "Installing collected packages: autocorrect\n",
            "Successfully installed autocorrect-2.3.0\n",
            "Collecting contractions\n",
            "  Downloading https://files.pythonhosted.org/packages/0a/04/d5e0bb9f2cef5d15616ebf68087a725c5dbdd71bd422bcfb35d709f98ce7/contractions-0.0.48-py2.py3-none-any.whl\n",
            "Collecting textsearch>=0.0.21\n",
            "  Downloading https://files.pythonhosted.org/packages/d3/fe/021d7d76961b5ceb9f8d022c4138461d83beff36c3938dc424586085e559/textsearch-0.0.21-py2.py3-none-any.whl\n",
            "Collecting pyahocorasick\n",
            "\u001b[?25l  Downloading https://files.pythonhosted.org/packages/4a/92/b3c70b8cf2b76f7e3e8b7243d6f06f7cb3bab6ada237b1bce57604c5c519/pyahocorasick-1.4.1.tar.gz (321kB)\n",
            "\u001b[K     |████████████████████████████████| 327kB 28.1MB/s \n",
            "\u001b[?25hCollecting anyascii\n",
            "\u001b[?25l  Downloading https://files.pythonhosted.org/packages/09/c7/61370d9e3c349478e89a5554c1e5d9658e1e3116cc4f2528f568909ebdf1/anyascii-0.1.7-py3-none-any.whl (260kB)\n",
            "\u001b[K     |████████████████████████████████| 266kB 53.2MB/s \n",
            "\u001b[?25hBuilding wheels for collected packages: pyahocorasick\n",
            "  Building wheel for pyahocorasick (setup.py) ... \u001b[?25l\u001b[?25hdone\n",
            "  Created wheel for pyahocorasick: filename=pyahocorasick-1.4.1-cp36-cp36m-linux_x86_64.whl size=84340 sha256=2a0fb1996bbf9f806ec374ec9284164dfb507d774a06026094cbda8320764e9d\n",
            "  Stored in directory: /root/.cache/pip/wheels/e4/ab/f7/cb39270df8f6126f3dd4c33d302357167086db460968cfc80c\n",
            "Successfully built pyahocorasick\n",
            "Installing collected packages: pyahocorasick, anyascii, textsearch, contractions\n",
            "Successfully installed anyascii-0.1.7 contractions-0.0.48 pyahocorasick-1.4.1 textsearch-0.0.21\n",
            "Collecting zeugma\n",
            "  Downloading https://files.pythonhosted.org/packages/59/38/8f57f83719027e36a61238abe1cafa55d257eaaf8e9185b2adbb5a928308/zeugma-0.48.tar.gz\n",
            "Requirement already satisfied: numpy>=1.13.3 in /usr/local/lib/python3.6/dist-packages (from zeugma) (1.19.5)\n",
            "Requirement already satisfied: Cython>=0.27.3 in /usr/local/lib/python3.6/dist-packages (from zeugma) (0.29.21)\n",
            "Requirement already satisfied: pandas>=0.20.3 in /usr/local/lib/python3.6/dist-packages (from zeugma) (1.1.5)\n",
            "Requirement already satisfied: gensim>=3.5.0 in /usr/local/lib/python3.6/dist-packages (from zeugma) (3.6.0)\n",
            "Requirement already satisfied: scikit_learn>=0.19.1 in /usr/local/lib/python3.6/dist-packages (from zeugma) (0.22.2.post1)\n",
            "Requirement already satisfied: tensorflow>=1.5.0 in /usr/local/lib/python3.6/dist-packages (from zeugma) (2.4.1)\n",
            "Requirement already satisfied: keras>=2.1.3 in /usr/local/lib/python3.6/dist-packages (from zeugma) (2.4.3)\n",
            "Requirement already satisfied: python-dateutil>=2.7.3 in /usr/local/lib/python3.6/dist-packages (from pandas>=0.20.3->zeugma) (2.8.1)\n",
            "Requirement already satisfied: pytz>=2017.2 in /usr/local/lib/python3.6/dist-packages (from pandas>=0.20.3->zeugma) (2018.9)\n",
            "Requirement already satisfied: six>=1.5.0 in /usr/local/lib/python3.6/dist-packages (from gensim>=3.5.0->zeugma) (1.15.0)\n",
            "Requirement already satisfied: scipy>=0.18.1 in /usr/local/lib/python3.6/dist-packages (from gensim>=3.5.0->zeugma) (1.4.1)\n",
            "Requirement already satisfied: smart-open>=1.2.1 in /usr/local/lib/python3.6/dist-packages (from gensim>=3.5.0->zeugma) (4.1.2)\n",
            "Requirement already satisfied: joblib>=0.11 in /usr/local/lib/python3.6/dist-packages (from scikit_learn>=0.19.1->zeugma) (1.0.0)\n",
            "Requirement already satisfied: grpcio~=1.32.0 in /usr/local/lib/python3.6/dist-packages (from tensorflow>=1.5.0->zeugma) (1.32.0)\n",
            "Requirement already satisfied: termcolor~=1.1.0 in /usr/local/lib/python3.6/dist-packages (from tensorflow>=1.5.0->zeugma) (1.1.0)\n",
            "Requirement already satisfied: astunparse~=1.6.3 in /usr/local/lib/python3.6/dist-packages (from tensorflow>=1.5.0->zeugma) (1.6.3)\n",
            "Requirement already satisfied: gast==0.3.3 in /usr/local/lib/python3.6/dist-packages (from tensorflow>=1.5.0->zeugma) (0.3.3)\n",
            "Requirement already satisfied: typing-extensions~=3.7.4 in /usr/local/lib/python3.6/dist-packages (from tensorflow>=1.5.0->zeugma) (3.7.4.3)\n",
            "Requirement already satisfied: absl-py~=0.10 in /usr/local/lib/python3.6/dist-packages (from tensorflow>=1.5.0->zeugma) (0.10.0)\n",
            "Requirement already satisfied: h5py~=2.10.0 in /usr/local/lib/python3.6/dist-packages (from tensorflow>=1.5.0->zeugma) (2.10.0)\n",
            "Requirement already satisfied: protobuf>=3.9.2 in /usr/local/lib/python3.6/dist-packages (from tensorflow>=1.5.0->zeugma) (3.12.4)\n",
            "Requirement already satisfied: tensorboard~=2.4 in /usr/local/lib/python3.6/dist-packages (from tensorflow>=1.5.0->zeugma) (2.4.1)\n",
            "Requirement already satisfied: wrapt~=1.12.1 in /usr/local/lib/python3.6/dist-packages (from tensorflow>=1.5.0->zeugma) (1.12.1)\n",
            "Requirement already satisfied: wheel~=0.35 in /usr/local/lib/python3.6/dist-packages (from tensorflow>=1.5.0->zeugma) (0.36.2)\n",
            "Requirement already satisfied: tensorflow-estimator<2.5.0,>=2.4.0 in /usr/local/lib/python3.6/dist-packages (from tensorflow>=1.5.0->zeugma) (2.4.0)\n",
            "Requirement already satisfied: keras-preprocessing~=1.1.2 in /usr/local/lib/python3.6/dist-packages (from tensorflow>=1.5.0->zeugma) (1.1.2)\n",
            "Requirement already satisfied: google-pasta~=0.2 in /usr/local/lib/python3.6/dist-packages (from tensorflow>=1.5.0->zeugma) (0.2.0)\n",
            "Requirement already satisfied: flatbuffers~=1.12.0 in /usr/local/lib/python3.6/dist-packages (from tensorflow>=1.5.0->zeugma) (1.12)\n",
            "Requirement already satisfied: opt-einsum~=3.3.0 in /usr/local/lib/python3.6/dist-packages (from tensorflow>=1.5.0->zeugma) (3.3.0)\n",
            "Requirement already satisfied: pyyaml in /usr/local/lib/python3.6/dist-packages (from keras>=2.1.3->zeugma) (3.13)\n",
            "Requirement already satisfied: setuptools in /usr/local/lib/python3.6/dist-packages (from protobuf>=3.9.2->tensorflow>=1.5.0->zeugma) (53.0.0)\n",
            "Requirement already satisfied: werkzeug>=0.11.15 in /usr/local/lib/python3.6/dist-packages (from tensorboard~=2.4->tensorflow>=1.5.0->zeugma) (1.0.1)\n",
            "Requirement already satisfied: markdown>=2.6.8 in /usr/local/lib/python3.6/dist-packages (from tensorboard~=2.4->tensorflow>=1.5.0->zeugma) (3.3.3)\n",
            "Requirement already satisfied: google-auth-oauthlib<0.5,>=0.4.1 in /usr/local/lib/python3.6/dist-packages (from tensorboard~=2.4->tensorflow>=1.5.0->zeugma) (0.4.2)\n",
            "Requirement already satisfied: tensorboard-plugin-wit>=1.6.0 in /usr/local/lib/python3.6/dist-packages (from tensorboard~=2.4->tensorflow>=1.5.0->zeugma) (1.8.0)\n",
            "Requirement already satisfied: google-auth<2,>=1.6.3 in /usr/local/lib/python3.6/dist-packages (from tensorboard~=2.4->tensorflow>=1.5.0->zeugma) (1.25.0)\n",
            "Requirement already satisfied: requests<3,>=2.21.0 in /usr/local/lib/python3.6/dist-packages (from tensorboard~=2.4->tensorflow>=1.5.0->zeugma) (2.23.0)\n",
            "Requirement already satisfied: importlib-metadata; python_version < \"3.8\" in /usr/local/lib/python3.6/dist-packages (from markdown>=2.6.8->tensorboard~=2.4->tensorflow>=1.5.0->zeugma) (3.4.0)\n",
            "Requirement already satisfied: requests-oauthlib>=0.7.0 in /usr/local/lib/python3.6/dist-packages (from google-auth-oauthlib<0.5,>=0.4.1->tensorboard~=2.4->tensorflow>=1.5.0->zeugma) (1.3.0)\n",
            "Requirement already satisfied: cachetools<5.0,>=2.0.0 in /usr/local/lib/python3.6/dist-packages (from google-auth<2,>=1.6.3->tensorboard~=2.4->tensorflow>=1.5.0->zeugma) (4.2.1)\n",
            "Requirement already satisfied: pyasn1-modules>=0.2.1 in /usr/local/lib/python3.6/dist-packages (from google-auth<2,>=1.6.3->tensorboard~=2.4->tensorflow>=1.5.0->zeugma) (0.2.8)\n",
            "Requirement already satisfied: rsa<5,>=3.1.4; python_version >= \"3.6\" in /usr/local/lib/python3.6/dist-packages (from google-auth<2,>=1.6.3->tensorboard~=2.4->tensorflow>=1.5.0->zeugma) (4.7)\n",
            "Requirement already satisfied: chardet<4,>=3.0.2 in /usr/local/lib/python3.6/dist-packages (from requests<3,>=2.21.0->tensorboard~=2.4->tensorflow>=1.5.0->zeugma) (3.0.4)\n",
            "Requirement already satisfied: certifi>=2017.4.17 in /usr/local/lib/python3.6/dist-packages (from requests<3,>=2.21.0->tensorboard~=2.4->tensorflow>=1.5.0->zeugma) (2020.12.5)\n",
            "Requirement already satisfied: urllib3!=1.25.0,!=1.25.1,<1.26,>=1.21.1 in /usr/local/lib/python3.6/dist-packages (from requests<3,>=2.21.0->tensorboard~=2.4->tensorflow>=1.5.0->zeugma) (1.24.3)\n",
            "Requirement already satisfied: idna<3,>=2.5 in /usr/local/lib/python3.6/dist-packages (from requests<3,>=2.21.0->tensorboard~=2.4->tensorflow>=1.5.0->zeugma) (2.10)\n",
            "Requirement already satisfied: zipp>=0.5 in /usr/local/lib/python3.6/dist-packages (from importlib-metadata; python_version < \"3.8\"->markdown>=2.6.8->tensorboard~=2.4->tensorflow>=1.5.0->zeugma) (3.4.0)\n",
            "Requirement already satisfied: oauthlib>=3.0.0 in /usr/local/lib/python3.6/dist-packages (from requests-oauthlib>=0.7.0->google-auth-oauthlib<0.5,>=0.4.1->tensorboard~=2.4->tensorflow>=1.5.0->zeugma) (3.1.0)\n",
            "Requirement already satisfied: pyasn1<0.5.0,>=0.4.6 in /usr/local/lib/python3.6/dist-packages (from pyasn1-modules>=0.2.1->google-auth<2,>=1.6.3->tensorboard~=2.4->tensorflow>=1.5.0->zeugma) (0.4.8)\n",
            "Building wheels for collected packages: zeugma\n",
            "  Building wheel for zeugma (setup.py) ... \u001b[?25l\u001b[?25hdone\n",
            "  Created wheel for zeugma: filename=zeugma-0.48-cp36-none-any.whl size=8778 sha256=227276bae02b4d9ef66ebe7b27e28e6efaa3995f60730b71b28ba7d8c91ad456\n",
            "  Stored in directory: /root/.cache/pip/wheels/6a/b5/bc/5183ac478b0071d04d3ed0c0dd4a43db94c5c8ffb317b5eb53\n",
            "Successfully built zeugma\n",
            "Installing collected packages: zeugma\n",
            "Successfully installed zeugma-0.48\n"
          ],
          "name": "stdout"
        }
      ]
    },
    {
      "cell_type": "code",
      "metadata": {
        "colab": {
          "base_uri": "https://localhost:8080/"
        },
        "id": "Z0ALiwjOOi4M",
        "outputId": "8f7a19db-61e4-4e9d-9236-041f7eb76a26"
      },
      "source": [
        "import re\r\n",
        "# --------------------------------------------------------------\r\n",
        "import pandas as pd\r\n",
        "import numpy as np\r\n",
        "import matplotlib.pyplot as plt\r\n",
        "import seaborn as sns\r\n",
        "# --------------------------------------------------------------\r\n",
        "import nltk\r\n",
        "from nltk.stem import WordNetLemmatizer,PorterStemmer\r\n",
        "from nltk.tokenize import word_tokenize\r\n",
        "from nltk.corpus import stopwords\r\n",
        "nltk.download('wordnet')\r\n",
        "nltk.download('punkt')\r\n",
        "nltk.download(\"stopwords\")\r\n",
        "# --------------------------------------------------------------\r\n",
        "import contractions\r\n",
        "from autocorrect import Speller\r\n",
        "# --------------------------------------------------------------\r\n",
        "import pickle \r\n",
        "# --------------------------------------------------------------\r\n",
        "from sklearn.feature_extraction.text import TfidfVectorizer\r\n",
        "from sklearn.model_selection import train_test_split\r\n",
        "from sklearn.linear_model import LogisticRegression\r\n",
        "from sklearn.metrics import accuracy_score,matthews_corrcoef\r\n",
        "from sklearn.metrics import plot_confusion_matrix"
      ],
      "execution_count": 2,
      "outputs": [
        {
          "output_type": "stream",
          "text": [
            "[nltk_data] Downloading package wordnet to /root/nltk_data...\n",
            "[nltk_data]   Unzipping corpora/wordnet.zip.\n",
            "[nltk_data] Downloading package punkt to /root/nltk_data...\n",
            "[nltk_data]   Unzipping tokenizers/punkt.zip.\n",
            "[nltk_data] Downloading package stopwords to /root/nltk_data...\n",
            "[nltk_data]   Unzipping corpora/stopwords.zip.\n"
          ],
          "name": "stdout"
        }
      ]
    },
    {
      "cell_type": "code",
      "metadata": {
        "colab": {
          "base_uri": "https://localhost:8080/",
          "height": 357
        },
        "id": "cdOkGiFvOjpX",
        "outputId": "2b4eee9d-2c37-4320-b873-ac2af6bdd109"
      },
      "source": [
        "data = pd.read_json(\"News_Category_Dataset_v2.json\", \r\n",
        "                    lines = True)\r\n",
        "data.head()"
      ],
      "execution_count": 6,
      "outputs": [
        {
          "output_type": "execute_result",
          "data": {
            "text/html": [
              "<div>\n",
              "<style scoped>\n",
              "    .dataframe tbody tr th:only-of-type {\n",
              "        vertical-align: middle;\n",
              "    }\n",
              "\n",
              "    .dataframe tbody tr th {\n",
              "        vertical-align: top;\n",
              "    }\n",
              "\n",
              "    .dataframe thead th {\n",
              "        text-align: right;\n",
              "    }\n",
              "</style>\n",
              "<table border=\"1\" class=\"dataframe\">\n",
              "  <thead>\n",
              "    <tr style=\"text-align: right;\">\n",
              "      <th></th>\n",
              "      <th>category</th>\n",
              "      <th>headline</th>\n",
              "      <th>authors</th>\n",
              "      <th>link</th>\n",
              "      <th>short_description</th>\n",
              "      <th>date</th>\n",
              "    </tr>\n",
              "  </thead>\n",
              "  <tbody>\n",
              "    <tr>\n",
              "      <th>0</th>\n",
              "      <td>CRIME</td>\n",
              "      <td>There Were 2 Mass Shootings In Texas Last Week...</td>\n",
              "      <td>Melissa Jeltsen</td>\n",
              "      <td>https://www.huffingtonpost.com/entry/texas-ama...</td>\n",
              "      <td>She left her husband. He killed their children...</td>\n",
              "      <td>2018-05-26</td>\n",
              "    </tr>\n",
              "    <tr>\n",
              "      <th>1</th>\n",
              "      <td>ENTERTAINMENT</td>\n",
              "      <td>Will Smith Joins Diplo And Nicky Jam For The 2...</td>\n",
              "      <td>Andy McDonald</td>\n",
              "      <td>https://www.huffingtonpost.com/entry/will-smit...</td>\n",
              "      <td>Of course it has a song.</td>\n",
              "      <td>2018-05-26</td>\n",
              "    </tr>\n",
              "    <tr>\n",
              "      <th>2</th>\n",
              "      <td>ENTERTAINMENT</td>\n",
              "      <td>Hugh Grant Marries For The First Time At Age 57</td>\n",
              "      <td>Ron Dicker</td>\n",
              "      <td>https://www.huffingtonpost.com/entry/hugh-gran...</td>\n",
              "      <td>The actor and his longtime girlfriend Anna Ebe...</td>\n",
              "      <td>2018-05-26</td>\n",
              "    </tr>\n",
              "    <tr>\n",
              "      <th>3</th>\n",
              "      <td>ENTERTAINMENT</td>\n",
              "      <td>Jim Carrey Blasts 'Castrato' Adam Schiff And D...</td>\n",
              "      <td>Ron Dicker</td>\n",
              "      <td>https://www.huffingtonpost.com/entry/jim-carre...</td>\n",
              "      <td>The actor gives Dems an ass-kicking for not fi...</td>\n",
              "      <td>2018-05-26</td>\n",
              "    </tr>\n",
              "    <tr>\n",
              "      <th>4</th>\n",
              "      <td>ENTERTAINMENT</td>\n",
              "      <td>Julianna Margulies Uses Donald Trump Poop Bags...</td>\n",
              "      <td>Ron Dicker</td>\n",
              "      <td>https://www.huffingtonpost.com/entry/julianna-...</td>\n",
              "      <td>The \"Dietland\" actress said using the bags is ...</td>\n",
              "      <td>2018-05-26</td>\n",
              "    </tr>\n",
              "  </tbody>\n",
              "</table>\n",
              "</div>"
            ],
            "text/plain": [
              "        category  ...       date\n",
              "0          CRIME  ... 2018-05-26\n",
              "1  ENTERTAINMENT  ... 2018-05-26\n",
              "2  ENTERTAINMENT  ... 2018-05-26\n",
              "3  ENTERTAINMENT  ... 2018-05-26\n",
              "4  ENTERTAINMENT  ... 2018-05-26\n",
              "\n",
              "[5 rows x 6 columns]"
            ]
          },
          "metadata": {
            "tags": []
          },
          "execution_count": 6
        }
      ]
    },
    {
      "cell_type": "code",
      "metadata": {
        "id": "8q0b9cMwOjmZ"
      },
      "source": [
        "new_data = data.drop(['date','link'],axis = 1).copy()"
      ],
      "execution_count": 4,
      "outputs": []
    },
    {
      "cell_type": "markdown",
      "metadata": {
        "id": "iFjCJ_X6SO4d"
      },
      "source": [
        "Checking for the distribution of classes:"
      ]
    },
    {
      "cell_type": "code",
      "metadata": {
        "colab": {
          "base_uri": "https://localhost:8080/",
          "height": 481
        },
        "id": "ImfLRxlAOjjs",
        "outputId": "986895d5-dbb9-47ce-db56-faec6ac8576b"
      },
      "source": [
        "plt.figure(figsize = (10,5))\r\n",
        "plt.xticks(rotation=90)\r\n",
        "sns.countplot(new_data.category, \r\n",
        "              order=new_data.category.value_counts().index)"
      ],
      "execution_count": 8,
      "outputs": [
        {
          "output_type": "stream",
          "text": [
            "/usr/local/lib/python3.6/dist-packages/seaborn/_decorators.py:43: FutureWarning: Pass the following variable as a keyword arg: x. From version 0.12, the only valid positional argument will be `data`, and passing other arguments without an explicit keyword will result in an error or misinterpretation.\n",
            "  FutureWarning\n"
          ],
          "name": "stderr"
        },
        {
          "output_type": "execute_result",
          "data": {
            "text/plain": [
              "<matplotlib.axes._subplots.AxesSubplot at 0x7fd483ddca58>"
            ]
          },
          "metadata": {
            "tags": []
          },
          "execution_count": 8
        },
        {
          "output_type": "display_data",
          "data": {
            "image/png": "[encoded data removed]",
            "text/plain": [
              "<Figure size 720x360 with 1 Axes>"
            ]
          },
          "metadata": {
            "tags": [],
            "needs_background": "light"
          }
        }
      ]
    },
    {
      "cell_type": "markdown",
      "metadata": {
        "id": "aPTjUTBBSW5c"
      },
      "source": [
        "Mapping Similar categories together:"
      ]
    },
    {
      "cell_type": "code",
      "metadata": {
        "colab": {
          "base_uri": "https://localhost:8080/"
        },
        "id": "iNpr3ltAOjg8",
        "outputId": "2700ff6f-66e3-4904-e5fe-7d303d48430f"
      },
      "source": [
        "new_data.category = new_data.category.map(lambda x: \"WORLDPOST\" if x\r\n",
        "                                          == \"THE WORLDPOST\" else x)\r\n",
        "new_data.category = new_data.category.map(lambda x: \"EDUCATION\" if x\r\n",
        "                                          == \"COLLEGE\" else x)\r\n",
        "new_data.category = new_data.category.map(lambda x: \"ARTS & CULTURE\" \r\n",
        "                                          if x == \"ARTS\" else x)\r\n",
        "new_data.category = new_data.category.map(lambda x: \"FOOD & DRINK\"\r\n",
        "                                          if x == \"TASTE\" else x)\r\n",
        "new_data.category = new_data.category.map(lambda x: \"PARENTING\" if x\r\n",
        "                                          == \"PARENTS\" else x)\r\n",
        "new_data.category = new_data.category.map(lambda x: \"STYLE & BEAUTY\"\r\n",
        "                                          if x == \"STYLE\" else x)\r\n",
        "new_data.category = new_data.category.map(lambda x: \"WORLDPOST\" if x\r\n",
        "                                          == \"WORLD NEWS\" else x)\r\n",
        "print(new_data.category.nunique())\r\n",
        "print(new_data.category.value_counts())"
      ],
      "execution_count": 9,
      "outputs": [
        {
          "output_type": "stream",
          "text": [
            "34\n",
            "POLITICS          32739\n",
            "WELLNESS          17827\n",
            "ENTERTAINMENT     16058\n",
            "PARENTING         12632\n",
            "STYLE & BEAUTY    11903\n",
            "TRAVEL             9887\n",
            "WORLDPOST          8420\n",
            "FOOD & DRINK       8322\n",
            "HEALTHY LIVING     6694\n",
            "QUEER VOICES       6314\n",
            "BUSINESS           5937\n",
            "COMEDY             5175\n",
            "SPORTS             4884\n",
            "BLACK VOICES       4528\n",
            "HOME & LIVING      4195\n",
            "WEDDINGS           3651\n",
            "WOMEN              3490\n",
            "IMPACT             3459\n",
            "DIVORCE            3426\n",
            "CRIME              3405\n",
            "ARTS & CULTURE     2848\n",
            "MEDIA              2815\n",
            "WEIRD NEWS         2670\n",
            "GREEN              2622\n",
            "RELIGION           2556\n",
            "SCIENCE            2178\n",
            "EDUCATION          2148\n",
            "TECH               2082\n",
            "MONEY              1707\n",
            "FIFTY              1401\n",
            "GOOD NEWS          1398\n",
            "ENVIRONMENT        1323\n",
            "LATINO VOICES      1129\n",
            "CULTURE & ARTS     1030\n",
            "Name: category, dtype: int64\n"
          ],
          "name": "stdout"
        }
      ]
    },
    {
      "cell_type": "markdown",
      "metadata": {
        "id": "CronbUe5SfSM"
      },
      "source": [
        "Handling Null Values:\r\n"
      ]
    },
    {
      "cell_type": "code",
      "metadata": {
        "colab": {
          "base_uri": "https://localhost:8080/"
        },
        "id": "BG5V_CfLOjbt",
        "outputId": "fd8c51d5-b529-4721-868f-4d79dc823eef"
      },
      "source": [
        "for i in new_data.columns:\r\n",
        "  print(i)\r\n",
        "  print(len(new_data[new_data[i] == \"\"]))\r\n",
        "  print(\"--------------------\")\r\n"
      ],
      "execution_count": 11,
      "outputs": [
        {
          "output_type": "stream",
          "text": [
            "category\n",
            "0\n",
            "--------------------\n",
            "headline\n",
            "6\n",
            "--------------------\n",
            "authors\n",
            "36620\n",
            "--------------------\n",
            "short_description\n",
            "19712\n",
            "--------------------\n"
          ],
          "name": "stdout"
        }
      ]
    },
    {
      "cell_type": "code",
      "metadata": {
        "id": "jbcMCTZDOjZN"
      },
      "source": [
        ""
      ],
      "execution_count": 12,
      "outputs": []
    },
    {
      "cell_type": "code",
      "metadata": {
        "colab": {
          "base_uri": "https://localhost:8080/",
          "height": 235
        },
        "id": "pjns2ImuOjVx",
        "outputId": "10657803-2653-4866-a21d-62ecd5dad9b1"
      },
      "source": [
        "new_data[new_data['headline'] == \"\"]"
      ],
      "execution_count": 13,
      "outputs": [
        {
          "output_type": "execute_result",
          "data": {
            "text/html": [
              "<div>\n",
              "<style scoped>\n",
              "    .dataframe tbody tr th:only-of-type {\n",
              "        vertical-align: middle;\n",
              "    }\n",
              "\n",
              "    .dataframe tbody tr th {\n",
              "        vertical-align: top;\n",
              "    }\n",
              "\n",
              "    .dataframe thead th {\n",
              "        text-align: right;\n",
              "    }\n",
              "</style>\n",
              "<table border=\"1\" class=\"dataframe\">\n",
              "  <thead>\n",
              "    <tr style=\"text-align: right;\">\n",
              "      <th></th>\n",
              "      <th>category</th>\n",
              "      <th>headline</th>\n",
              "      <th>authors</th>\n",
              "      <th>short_description</th>\n",
              "    </tr>\n",
              "  </thead>\n",
              "  <tbody>\n",
              "    <tr>\n",
              "      <th>82270</th>\n",
              "      <td>POLITICS</td>\n",
              "      <td></td>\n",
              "      <td>Robert Moran, ContributorRobert Moran leads Br...</td>\n",
              "      <td></td>\n",
              "    </tr>\n",
              "    <tr>\n",
              "      <th>86893</th>\n",
              "      <td>RELIGION</td>\n",
              "      <td></td>\n",
              "      <td>Matthew Fox, ContributorRadical theologian Mat...</td>\n",
              "      <td>Let everyone not wrapped in tired and disprove...</td>\n",
              "    </tr>\n",
              "    <tr>\n",
              "      <th>95001</th>\n",
              "      <td>WORLDPOST</td>\n",
              "      <td></td>\n",
              "      <td>Natasha Srdoc, ContributorAuthor, Economist, C...</td>\n",
              "      <td></td>\n",
              "    </tr>\n",
              "    <tr>\n",
              "      <th>100426</th>\n",
              "      <td>BUSINESS</td>\n",
              "      <td></td>\n",
              "      <td>Gary Snyder, ContributorWriter and Media Strat...</td>\n",
              "      <td></td>\n",
              "    </tr>\n",
              "    <tr>\n",
              "      <th>101479</th>\n",
              "      <td>MEDIA</td>\n",
              "      <td></td>\n",
              "      <td>Gary Snyder, ContributorWriter and Media Strat...</td>\n",
              "      <td></td>\n",
              "    </tr>\n",
              "    <tr>\n",
              "      <th>113471</th>\n",
              "      <td>QUEER VOICES</td>\n",
              "      <td></td>\n",
              "      <td>Gary Snyder, ContributorWriter and Media Strat...</td>\n",
              "      <td></td>\n",
              "    </tr>\n",
              "  </tbody>\n",
              "</table>\n",
              "</div>"
            ],
            "text/plain": [
              "            category  ...                                  short_description\n",
              "82270       POLITICS  ...                                                   \n",
              "86893       RELIGION  ...  Let everyone not wrapped in tired and disprove...\n",
              "95001      WORLDPOST  ...                                                   \n",
              "100426      BUSINESS  ...                                                   \n",
              "101479         MEDIA  ...                                                   \n",
              "113471  QUEER VOICES  ...                                                   \n",
              "\n",
              "[6 rows x 4 columns]"
            ]
          },
          "metadata": {
            "tags": []
          },
          "execution_count": 13
        }
      ]
    },
    {
      "cell_type": "code",
      "metadata": {
        "id": "-yPteSRuOjSb"
      },
      "source": [
        "new_data = new_data[new_data['headline'] != \"\"]\r\n",
        "new_data = new_data[new_data['short_description'] != \"\"]"
      ],
      "execution_count": 14,
      "outputs": []
    },
    {
      "cell_type": "markdown",
      "metadata": {
        "id": "GxILMiewS3lN"
      },
      "source": [
        "Now that we have removed null values we can create a new data frame to move forward."
      ]
    },
    {
      "cell_type": "code",
      "metadata": {
        "colab": {
          "base_uri": "https://localhost:8080/",
          "height": 204
        },
        "id": "ihE72VPfS1BR",
        "outputId": "3612c66e-e8b0-465e-86b8-1d41b338c37b"
      },
      "source": [
        "df = new_data[['headline','short_description','category']]\r\n",
        "df.reset_index(drop=True)\r\n",
        "df.head()"
      ],
      "execution_count": 15,
      "outputs": [
        {
          "output_type": "execute_result",
          "data": {
            "text/html": [
              "<div>\n",
              "<style scoped>\n",
              "    .dataframe tbody tr th:only-of-type {\n",
              "        vertical-align: middle;\n",
              "    }\n",
              "\n",
              "    .dataframe tbody tr th {\n",
              "        vertical-align: top;\n",
              "    }\n",
              "\n",
              "    .dataframe thead th {\n",
              "        text-align: right;\n",
              "    }\n",
              "</style>\n",
              "<table border=\"1\" class=\"dataframe\">\n",
              "  <thead>\n",
              "    <tr style=\"text-align: right;\">\n",
              "      <th></th>\n",
              "      <th>headline</th>\n",
              "      <th>short_description</th>\n",
              "      <th>category</th>\n",
              "    </tr>\n",
              "  </thead>\n",
              "  <tbody>\n",
              "    <tr>\n",
              "      <th>0</th>\n",
              "      <td>There Were 2 Mass Shootings In Texas Last Week...</td>\n",
              "      <td>She left her husband. He killed their children...</td>\n",
              "      <td>CRIME</td>\n",
              "    </tr>\n",
              "    <tr>\n",
              "      <th>1</th>\n",
              "      <td>Will Smith Joins Diplo And Nicky Jam For The 2...</td>\n",
              "      <td>Of course it has a song.</td>\n",
              "      <td>ENTERTAINMENT</td>\n",
              "    </tr>\n",
              "    <tr>\n",
              "      <th>2</th>\n",
              "      <td>Hugh Grant Marries For The First Time At Age 57</td>\n",
              "      <td>The actor and his longtime girlfriend Anna Ebe...</td>\n",
              "      <td>ENTERTAINMENT</td>\n",
              "    </tr>\n",
              "    <tr>\n",
              "      <th>3</th>\n",
              "      <td>Jim Carrey Blasts 'Castrato' Adam Schiff And D...</td>\n",
              "      <td>The actor gives Dems an ass-kicking for not fi...</td>\n",
              "      <td>ENTERTAINMENT</td>\n",
              "    </tr>\n",
              "    <tr>\n",
              "      <th>4</th>\n",
              "      <td>Julianna Margulies Uses Donald Trump Poop Bags...</td>\n",
              "      <td>The \"Dietland\" actress said using the bags is ...</td>\n",
              "      <td>ENTERTAINMENT</td>\n",
              "    </tr>\n",
              "  </tbody>\n",
              "</table>\n",
              "</div>"
            ],
            "text/plain": [
              "                                            headline  ...       category\n",
              "0  There Were 2 Mass Shootings In Texas Last Week...  ...          CRIME\n",
              "1  Will Smith Joins Diplo And Nicky Jam For The 2...  ...  ENTERTAINMENT\n",
              "2    Hugh Grant Marries For The First Time At Age 57  ...  ENTERTAINMENT\n",
              "3  Jim Carrey Blasts 'Castrato' Adam Schiff And D...  ...  ENTERTAINMENT\n",
              "4  Julianna Margulies Uses Donald Trump Poop Bags...  ...  ENTERTAINMENT\n",
              "\n",
              "[5 rows x 3 columns]"
            ]
          },
          "metadata": {
            "tags": []
          },
          "execution_count": 15
        }
      ]
    },
    {
      "cell_type": "code",
      "metadata": {
        "colab": {
          "base_uri": "https://localhost:8080/",
          "height": 145
        },
        "id": "FtTV8X-zS5x8",
        "outputId": "2954f3fc-52ce-490c-cae6-029f02c3f05c"
      },
      "source": [
        "df['total'] = df['headline'] + \" \" + df['short_description']\r\n",
        "df.head(2)"
      ],
      "execution_count": 16,
      "outputs": [
        {
          "output_type": "execute_result",
          "data": {
            "text/html": [
              "<div>\n",
              "<style scoped>\n",
              "    .dataframe tbody tr th:only-of-type {\n",
              "        vertical-align: middle;\n",
              "    }\n",
              "\n",
              "    .dataframe tbody tr th {\n",
              "        vertical-align: top;\n",
              "    }\n",
              "\n",
              "    .dataframe thead th {\n",
              "        text-align: right;\n",
              "    }\n",
              "</style>\n",
              "<table border=\"1\" class=\"dataframe\">\n",
              "  <thead>\n",
              "    <tr style=\"text-align: right;\">\n",
              "      <th></th>\n",
              "      <th>headline</th>\n",
              "      <th>short_description</th>\n",
              "      <th>category</th>\n",
              "      <th>total</th>\n",
              "    </tr>\n",
              "  </thead>\n",
              "  <tbody>\n",
              "    <tr>\n",
              "      <th>0</th>\n",
              "      <td>There Were 2 Mass Shootings In Texas Last Week...</td>\n",
              "      <td>She left her husband. He killed their children...</td>\n",
              "      <td>CRIME</td>\n",
              "      <td>There Were 2 Mass Shootings In Texas Last Week...</td>\n",
              "    </tr>\n",
              "    <tr>\n",
              "      <th>1</th>\n",
              "      <td>Will Smith Joins Diplo And Nicky Jam For The 2...</td>\n",
              "      <td>Of course it has a song.</td>\n",
              "      <td>ENTERTAINMENT</td>\n",
              "      <td>Will Smith Joins Diplo And Nicky Jam For The 2...</td>\n",
              "    </tr>\n",
              "  </tbody>\n",
              "</table>\n",
              "</div>"
            ],
            "text/plain": [
              "                                            headline  ...                                              total\n",
              "0  There Were 2 Mass Shootings In Texas Last Week...  ...  There Were 2 Mass Shootings In Texas Last Week...\n",
              "1  Will Smith Joins Diplo And Nicky Jam For The 2...  ...  Will Smith Joins Diplo And Nicky Jam For The 2...\n",
              "\n",
              "[2 rows x 4 columns]"
            ]
          },
          "metadata": {
            "tags": []
          },
          "execution_count": 16
        }
      ]
    },
    {
      "cell_type": "code",
      "metadata": {
        "id": "ll-8k54pS8G2"
      },
      "source": [
        "df_cleaned = df[['total','category']]"
      ],
      "execution_count": 17,
      "outputs": []
    },
    {
      "cell_type": "markdown",
      "metadata": {
        "id": "g2IRXKpGTJEt"
      },
      "source": [
        "function to expand contractions:\r\n"
      ]
    },
    {
      "cell_type": "code",
      "metadata": {
        "id": "bcwCig_MS-P2"
      },
      "source": [
        "def expand_contractions(text):\r\n",
        "  sent = \"\"\r\n",
        "  for word in text.split():\r\n",
        "    sent = sent + \" \" + contractions.fix(word)\r\n",
        "  return sent.lower()"
      ],
      "execution_count": 18,
      "outputs": []
    },
    {
      "cell_type": "markdown",
      "metadata": {
        "id": "bkMIBVdVTLxm"
      },
      "source": [
        " function to correct the spelling of words:"
      ]
    },
    {
      "cell_type": "code",
      "metadata": {
        "colab": {
          "base_uri": "https://localhost:8080/",
          "height": 52
        },
        "id": "0E2fcHUoTDAI",
        "outputId": "81e5718b-d235-4410-cb6e-ebe46ffc5ede"
      },
      "source": [
        "def spell_check(text):\r\n",
        "  spell = Speller()\r\n",
        "  sent = \" \"\r\n",
        "  spells = [spell(w) for w in (nltk.word_tokenize(text))]  \r\n",
        "  return sent.join(spells)\r\n",
        "spell_check(expand_contractions(df_cleaned.total[20]))"
      ],
      "execution_count": 19,
      "outputs": [
        {
          "output_type": "execute_result",
          "data": {
            "application/vnd.google.colaboratory.intrinsic+json": {
              "type": "string"
            },
            "text/plain": [
              "\"weird father 's day gifts your dad does not know he wants ( but he does ) why buy a boring tie when you can give him textile plush toys ?\""
            ]
          },
          "metadata": {
            "tags": []
          },
          "execution_count": 19
        }
      ]
    },
    {
      "cell_type": "markdown",
      "metadata": {
        "id": "FQFuxmV3TdEK"
      },
      "source": [
        "function to preprocess the whole data dataset:"
      ]
    },
    {
      "cell_type": "code",
      "metadata": {
        "colab": {
          "base_uri": "https://localhost:8080/",
          "height": 377
        },
        "id": "Yz06tFRpTOQY",
        "outputId": "79503be4-35fc-4c60-be23-cb1045713875"
      },
      "source": [
        "def text_preprocess(data,x):\r\n",
        "  lemmatizer = WordNetLemmatizer()\r\n",
        "  for i,row in data.iterrows():\r\n",
        "      filter_Sentence = ''\r\n",
        "      sentence = row[x]\r\n",
        "      sentence = expand_contractions(sentence)\r\n",
        "      #sentence = spell_check(sentence)\r\n",
        "      sentence = re.sub(r'[^\\w\\s]',' ',sentence)\r\n",
        "      #removing extra space\r\n",
        "      sentence = re.sub(r\"\\s+\",\" \", sentence, flags = re.I)\r\n",
        "      sentence = re.sub(r\"\\d\", \" \", sentence)#removing digits\r\n",
        "      #removing single characters\r\n",
        "      sentence = re.sub(r\"\\s+[a-zA-Z]\\s+\", \" \", sentence)\r\n",
        "      #removing multiple characters\r\n",
        "      sentence = re.sub(r\"[,@\\'?\\.$%_]\", \"\", sentence, flags=re.I)\r\n",
        "      words = nltk.word_tokenize(sentence)\r\n",
        "     #words = [w for w in words if not w in stop_words]\r\n",
        "      for word in words:\r\n",
        "          #filter_Sentence = filter_Sentence + ' ' + str(word)\r\n",
        "          filter_Sentence = filter_Sentence + ' ' + str(lemmatizer.lemmatize(word))\r\n",
        "      data.loc[i,x] = sentence\r\n",
        "  return data\r\n",
        "text_preprocess(df_cleaned,'total').head()\r\n"
      ],
      "execution_count": 22,
      "outputs": [
        {
          "output_type": "stream",
          "text": [
            "/usr/local/lib/python3.6/dist-packages/pandas/core/indexing.py:670: SettingWithCopyWarning: \n",
            "A value is trying to be set on a copy of a slice from a DataFrame\n",
            "\n",
            "See the caveats in the documentation: https://pandas.pydata.org/pandas-docs/stable/user_guide/indexing.html#returning-a-view-versus-a-copy\n",
            "  iloc._setitem_with_indexer(indexer, value)\n",
            "/usr/local/lib/python3.6/dist-packages/ipykernel_launcher.py:21: SettingWithCopyWarning: \n",
            "A value is trying to be set on a copy of a slice from a DataFrame\n",
            "\n",
            "See the caveats in the documentation: https://pandas.pydata.org/pandas-docs/stable/user_guide/indexing.html#returning-a-view-versus-a-copy\n"
          ],
          "name": "stderr"
        },
        {
          "output_type": "execute_result",
          "data": {
            "text/html": [
              "<div>\n",
              "<style scoped>\n",
              "    .dataframe tbody tr th:only-of-type {\n",
              "        vertical-align: middle;\n",
              "    }\n",
              "\n",
              "    .dataframe tbody tr th {\n",
              "        vertical-align: top;\n",
              "    }\n",
              "\n",
              "    .dataframe thead th {\n",
              "        text-align: right;\n",
              "    }\n",
              "</style>\n",
              "<table border=\"1\" class=\"dataframe\">\n",
              "  <thead>\n",
              "    <tr style=\"text-align: right;\">\n",
              "      <th></th>\n",
              "      <th>total</th>\n",
              "      <th>category</th>\n",
              "    </tr>\n",
              "  </thead>\n",
              "  <tbody>\n",
              "    <tr>\n",
              "      <th>0</th>\n",
              "      <td>there were   mass shootings in texas last wee...</td>\n",
              "      <td>CRIME</td>\n",
              "    </tr>\n",
              "    <tr>\n",
              "      <th>1</th>\n",
              "      <td>will smith joins diplo and nicky jam for the ...</td>\n",
              "      <td>ENTERTAINMENT</td>\n",
              "    </tr>\n",
              "    <tr>\n",
              "      <th>2</th>\n",
              "      <td>hugh grant marries for the first time at age ...</td>\n",
              "      <td>ENTERTAINMENT</td>\n",
              "    </tr>\n",
              "    <tr>\n",
              "      <th>3</th>\n",
              "      <td>jim carrey blasts castrato adam schiff and de...</td>\n",
              "      <td>ENTERTAINMENT</td>\n",
              "    </tr>\n",
              "    <tr>\n",
              "      <th>4</th>\n",
              "      <td>julianna margulies uses donald trump poop bag...</td>\n",
              "      <td>ENTERTAINMENT</td>\n",
              "    </tr>\n",
              "  </tbody>\n",
              "</table>\n",
              "</div>"
            ],
            "text/plain": [
              "                                               total       category\n",
              "0   there were   mass shootings in texas last wee...          CRIME\n",
              "1   will smith joins diplo and nicky jam for the ...  ENTERTAINMENT\n",
              "2   hugh grant marries for the first time at age ...  ENTERTAINMENT\n",
              "3   jim carrey blasts castrato adam schiff and de...  ENTERTAINMENT\n",
              "4   julianna margulies uses donald trump poop bag...  ENTERTAINMENT"
            ]
          },
          "metadata": {
            "tags": []
          },
          "execution_count": 22
        }
      ]
    },
    {
      "cell_type": "code",
      "metadata": {
        "id": "An2uJoupTRDT"
      },
      "source": [
        "df_cleaned.to_csv('clean.csv', index = False)"
      ],
      "execution_count": 23,
      "outputs": []
    },
    {
      "cell_type": "code",
      "metadata": {
        "colab": {
          "base_uri": "https://localhost:8080/",
          "height": 204
        },
        "id": "8d1aKJbbUA7g",
        "outputId": "60c33af1-8bdb-4e63-85a2-4f26c8f0f2be"
      },
      "source": [
        "df_cleaned = pd.read_csv(\"/content/clean.csv\")\r\n",
        "df_cleaned.head()"
      ],
      "execution_count": 24,
      "outputs": [
        {
          "output_type": "execute_result",
          "data": {
            "text/html": [
              "<div>\n",
              "<style scoped>\n",
              "    .dataframe tbody tr th:only-of-type {\n",
              "        vertical-align: middle;\n",
              "    }\n",
              "\n",
              "    .dataframe tbody tr th {\n",
              "        vertical-align: top;\n",
              "    }\n",
              "\n",
              "    .dataframe thead th {\n",
              "        text-align: right;\n",
              "    }\n",
              "</style>\n",
              "<table border=\"1\" class=\"dataframe\">\n",
              "  <thead>\n",
              "    <tr style=\"text-align: right;\">\n",
              "      <th></th>\n",
              "      <th>total</th>\n",
              "      <th>category</th>\n",
              "    </tr>\n",
              "  </thead>\n",
              "  <tbody>\n",
              "    <tr>\n",
              "      <th>0</th>\n",
              "      <td>there were   mass shootings in texas last wee...</td>\n",
              "      <td>CRIME</td>\n",
              "    </tr>\n",
              "    <tr>\n",
              "      <th>1</th>\n",
              "      <td>will smith joins diplo and nicky jam for the ...</td>\n",
              "      <td>ENTERTAINMENT</td>\n",
              "    </tr>\n",
              "    <tr>\n",
              "      <th>2</th>\n",
              "      <td>hugh grant marries for the first time at age ...</td>\n",
              "      <td>ENTERTAINMENT</td>\n",
              "    </tr>\n",
              "    <tr>\n",
              "      <th>3</th>\n",
              "      <td>jim carrey blasts castrato adam schiff and de...</td>\n",
              "      <td>ENTERTAINMENT</td>\n",
              "    </tr>\n",
              "    <tr>\n",
              "      <th>4</th>\n",
              "      <td>julianna margulies uses donald trump poop bag...</td>\n",
              "      <td>ENTERTAINMENT</td>\n",
              "    </tr>\n",
              "  </tbody>\n",
              "</table>\n",
              "</div>"
            ],
            "text/plain": [
              "                                               total       category\n",
              "0   there were   mass shootings in texas last wee...          CRIME\n",
              "1   will smith joins diplo and nicky jam for the ...  ENTERTAINMENT\n",
              "2   hugh grant marries for the first time at age ...  ENTERTAINMENT\n",
              "3   jim carrey blasts castrato adam schiff and de...  ENTERTAINMENT\n",
              "4   julianna margulies uses donald trump poop bag...  ENTERTAINMENT"
            ]
          },
          "metadata": {
            "tags": []
          },
          "execution_count": 24
        }
      ]
    },
    {
      "cell_type": "markdown",
      "metadata": {
        "id": "bKGQFZvNUGi1"
      },
      "source": [
        "Using TFIDF Vectorizer to generate word vectors:\r\n"
      ]
    },
    {
      "cell_type": "code",
      "metadata": {
        "colab": {
          "base_uri": "https://localhost:8080/"
        },
        "id": "mh13JgJ9UDcJ",
        "outputId": "a8b8dcb4-aa85-463a-be62-4de8bb2f5a90"
      },
      "source": [
        "tfidf = TfidfVectorizer()\r\n",
        "X = tfidf.fit_transform(df_cleaned['total'])\r\n",
        "X.shape"
      ],
      "execution_count": 25,
      "outputs": [
        {
          "output_type": "execute_result",
          "data": {
            "text/plain": [
              "(181140, 83559)"
            ]
          },
          "metadata": {
            "tags": []
          },
          "execution_count": 25
        }
      ]
    },
    {
      "cell_type": "code",
      "metadata": {
        "id": "bBJpjo8AUIkQ"
      },
      "source": [
        "\r\n",
        "pickle.dump(tfidf, open(\"tfidf.pkl\",\"wb\"))"
      ],
      "execution_count": 26,
      "outputs": []
    },
    {
      "cell_type": "markdown",
      "metadata": {
        "id": "HwZZVxAQUOww"
      },
      "source": [
        "Splitting the data into train and test set:"
      ]
    },
    {
      "cell_type": "code",
      "metadata": {
        "id": "kJmbzvb9UMk3"
      },
      "source": [
        "y = df_cleaned['category']\r\n",
        "x_train,x_test,y_train,y_test = train_test_split(X, y,\r\n",
        "                                                 test_size = 0.2)"
      ],
      "execution_count": 27,
      "outputs": []
    },
    {
      "cell_type": "code",
      "metadata": {
        "id": "_e_VqobHUQ5_"
      },
      "source": [
        "Lg = LogisticRegression(max_iter = 1000).fit(x_train,y_train)"
      ],
      "execution_count": 28,
      "outputs": []
    },
    {
      "cell_type": "code",
      "metadata": {
        "colab": {
          "base_uri": "https://localhost:8080/"
        },
        "id": "EW0R_qxoUT1F",
        "outputId": "b0ea9e06-a323-41ad-ac9f-fca5355ac4aa"
      },
      "source": [
        "pred = Lg.predict(x_test)\r\n",
        "print(accuracy_score(y_test,pred))\r\n",
        "print(matthews_corrcoef(y_test, pred))"
      ],
      "execution_count": 29,
      "outputs": [
        {
          "output_type": "stream",
          "text": [
            "0.650049685326267\n",
            "0.6230436183706591\n"
          ],
          "name": "stdout"
        }
      ]
    },
    {
      "cell_type": "code",
      "metadata": {
        "colab": {
          "base_uri": "https://localhost:8080/",
          "height": 371
        },
        "id": "4OiwuiMZUXjP",
        "outputId": "b9b33359-b52d-4c27-feb3-4ec0ccf8bdd6"
      },
      "source": [
        "plot_confusion_matrix(Lg, x_test, \r\n",
        "                      y_test,xticks_rotation='vertical', \r\n",
        "                      include_values=False)"
      ],
      "execution_count": 30,
      "outputs": [
        {
          "output_type": "execute_result",
          "data": {
            "text/plain": [
              "<sklearn.metrics._plot.confusion_matrix.ConfusionMatrixDisplay at 0x7fd480f903c8>"
            ]
          },
          "metadata": {
            "tags": []
          },
          "execution_count": 30
        },
        {
          "output_type": "display_data",
          "data": {
            "image/png": "[encoded data removed]",
            "text/plain": [
              "<Figure size 432x288 with 2 Axes>"
            ]
          },
          "metadata": {
            "tags": [],
            "needs_background": "light"
          }
        }
      ]
    },
    {
      "cell_type": "code",
      "metadata": {
        "id": "IJCsc6JxUZvN"
      },
      "source": [
        "pickle.dump(Lg,open(\"LogisticRegression_model.pkl\",\"wb\"))"
      ],
      "execution_count": 31,
      "outputs": []
    },
    {
      "cell_type": "code",
      "metadata": {
        "id": "syVTRCl5UcFM"
      },
      "source": [
        ""
      ],
      "execution_count": null,
      "outputs": []
    }
  ]
}